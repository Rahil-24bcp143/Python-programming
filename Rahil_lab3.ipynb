{
 "cells": [
  {
   "cell_type": "code",
   "execution_count": 2,
   "id": "5363aaec",
   "metadata": {},
   "outputs": [
    {
     "name": "stdout",
     "output_type": "stream",
     "text": [
      "RAHIL\n",
      "rahil\n"
     ]
    }
   ],
   "source": [
    "\n",
    "#  1\n",
    "\n",
    "\n",
    "text = input(\"Input \")\n",
    "\n",
    "upper_case = text.upper()   \n",
    "lower_case = text.lower()  \n",
    "\n",
    "print( upper_case)\n",
    "print( lower_case)\n",
    "\n"
   ]
  },
  {
   "cell_type": "code",
   "execution_count": 1,
   "id": "75b8cd78",
   "metadata": {},
   "outputs": [
    {
     "name": "stdout",
     "output_type": "stream",
     "text": [
      "8 x 1 = 8\n",
      "8 x 2 = 16\n",
      "8 x 3 = 24\n",
      "8 x 4 = 32\n",
      "8 x 5 = 40\n",
      "8 x 6 = 48\n",
      "8 x 7 = 56\n",
      "8 x 8 = 64\n",
      "8 x 9 = 72\n",
      "8 x 10 = 80\n"
     ]
    }
   ],
   "source": [
    "\n",
    "#  2\n",
    "num = int(input(\"Enter a number: \"))\n",
    "for i in range(1, 11):\n",
    "    print(num, \"x\", i, \"=\", num * i)\n"
   ]
  },
  {
   "cell_type": "code",
   "execution_count": 3,
   "id": "786a4710",
   "metadata": {},
   "outputs": [
    {
     "name": "stdout",
     "output_type": "stream",
     "text": [
      "Alphabets: 5\n",
      "Digits: 0\n"
     ]
    }
   ],
   "source": [
    "\n",
    "#  3\n",
    "string = input(\"Enter a string: \")\n",
    "alpha = 0\n",
    "digits = 0\n",
    "for char in string:\n",
    "    if 'A' <= char <= 'Z' or 'a' <= char <= 'z':\n",
    "        alpha += 1\n",
    "    elif '0' <= char <= '9':\n",
    "        digits += 1\n",
    "print(\"Alphabets:\", alpha)\n",
    "print(\"Digits:\", digits)\n"
   ]
  },
  {
   "cell_type": "code",
   "execution_count": null,
   "id": "3c663303",
   "metadata": {},
   "outputs": [],
   "source": [
    "\n",
    "#  4\n",
    "num = int(input(\"Enter number: \"))\n",
    "\n",
    "#prime \n",
    "is_prime = True\n",
    "if num > 1:\n",
    "    for i in range(2, num):\n",
    "        if num % i == 0:\n",
    "            is_prime = False\n",
    "            break\n",
    "else:\n",
    "    is_prime = False\n",
    "\n",
    "# perfect\n",
    "sum_factors = 0\n",
    "for i in range(1, num):\n",
    "    if num % i == 0:\n",
    "        sum_factors += i\n",
    "is_perfect = (sum_factors == num)\n",
    "\n",
    "# armstrong\n",
    "temp = num\n",
    "sum_armstrong = 0\n",
    "while temp > 0:\n",
    "    digit = temp % 10\n",
    "    sum_armstrong += digit ** len(str(num))\n",
    "    temp //= 10\n",
    "is_armstrong = (sum_armstrong == num)\n",
    "\n",
    "#palindrome\n",
    "is_palindrome = (str(num) == str(num)[::-1])\n",
    "\n",
    "# automorphic\n",
    "is_automorphic = (str(num**2).endswith(str(num)))\n",
    "\n",
    "print(\"Prime:\", is_prime)\n",
    "print(\"Perfect:\", is_perfect)\n",
    "print(\"Armstrong:\", is_armstrong)\n",
    "print(\"Palindrome:\", is_palindrome)\n",
    "print(\"Automorphic:\", is_automorphic)\n"
   ]
  },
  {
   "cell_type": "code",
   "execution_count": null,
   "id": "a5e238ce",
   "metadata": {},
   "outputs": [],
   "source": [
    "\n",
    "#  5\n",
    "\n",
    "for a in range(1, 31):\n",
    "    for b in range(a, 31):\n",
    "        for c in range(b, 31):\n",
    "            if a**2 + b**2 == c**2:\n",
    "                print(a, b, c)\n"
   ]
  },
  {
   "cell_type": "code",
   "execution_count": null,
   "id": "ff870a88",
   "metadata": {},
   "outputs": [],
   "source": [
    "\n",
    "#  6\n",
    "for hour in range(24):\n",
    "    if hour == 0:\n",
    "        print(\"12 AM (midnight)\")\n",
    "    elif hour < 12:\n",
    "        print(hour, \"AM\")\n",
    "    elif hour == 12:\n",
    "        print(\"12 PM (noon)\")\n",
    "    else:\n",
    "        print(hour - 12, \"PM\")\n"
   ]
  },
  {
   "cell_type": "code",
   "execution_count": 6,
   "id": "484d1348",
   "metadata": {},
   "outputs": [
    {
     "name": "stdout",
     "output_type": "stream",
     "text": [
      "nCr: 3\n",
      "nPr: 6\n"
     ]
    }
   ],
   "source": [
    "\n",
    "#  7\n",
    "n = int(input(\"Enter n: \"))\n",
    "r = int(input(\"Enter r: \"))\n",
    "fact_n = 1\n",
    "fact_r = 1\n",
    "fact_nr = 1\n",
    "\n",
    "for i in range(1, n+1):\n",
    "    fact_n *= i\n",
    "for i in range(1, r+1):\n",
    "    fact_r *= i\n",
    "for i in range(1, n-r+1):\n",
    "    fact_nr *= i\n",
    "\n",
    "nCr = fact_n // (fact_r * fact_nr)\n",
    "nPr = fact_n // fact_nr\n",
    "\n",
    "print(\"nCr:\", nCr)\n",
    "print(\"nPr:\", nPr)\n"
   ]
  },
  {
   "cell_type": "code",
   "execution_count": 5,
   "id": "bc8819ed",
   "metadata": {},
   "outputs": [
    {
     "name": "stdout",
     "output_type": "stream",
     "text": [
      "Factorial of 5 is 120\n"
     ]
    }
   ],
   "source": [
    "\n",
    "#  8\n",
    "num = int(input(\"Enter a number: \"))\n",
    "factorial = 1\n",
    "for i in range(1, num + 1):\n",
    "    factorial *= i\n",
    "print(\"Factorial of\", num, \"is\", factorial)\n"
   ]
  },
  {
   "cell_type": "code",
   "execution_count": 4,
   "id": "9d4a53c8",
   "metadata": {},
   "outputs": [
    {
     "name": "stdout",
     "output_type": "stream",
     "text": [
      "8 7 6 5 4 3 2 1 \n"
     ]
    }
   ],
   "source": [
    "\n",
    "#  9\n",
    "n= int(input(\"Enter number: \"))\n",
    "for i in range(n, 0, -1):\n",
    "    print(i, end=\" \")\n",
    "print()\n"
   ]
  },
  {
   "cell_type": "code",
   "execution_count": null,
   "id": "d1b6f666",
   "metadata": {},
   "outputs": [],
   "source": [
    "\n",
    "#  10\n",
    "N = int(input(\"Enter N: \"))\n",
    "a, b = 0, 1\n",
    "for i in range(N):\n",
    "    print(a, end=\" \")\n",
    "    a, b = b, a + b\n",
    "print()\n"
   ]
  },
  {
   "cell_type": "code",
   "execution_count": null,
   "id": "9a80e2c3",
   "metadata": {},
   "outputs": [],
   "source": [
    "\n",
    "#  11\n",
    "x = float(input(\"Enter angle in degrees: \"))\n",
    "x = x * 3.14159 / 180  \n",
    "\n",
    "sinx = 0\n",
    "sign = 1\n",
    "for i in range(10):  \n",
    "    term = 1\n",
    "    for j in range(1, 2*i+2):\n",
    "        term *= x / j\n",
    "    sinx += sign * term\n",
    "    sign *= -1\n",
    "\n",
    "print(\"sin(x) =\", sin_x)\n"
   ]
  }
 ],
 "metadata": {
  "kernelspec": {
   "display_name": "base",
   "language": "python",
   "name": "python3"
  },
  "language_info": {
   "codemirror_mode": {
    "name": "ipython",
    "version": 3
   },
   "file_extension": ".py",
   "mimetype": "text/x-python",
   "name": "python",
   "nbconvert_exporter": "python",
   "pygments_lexer": "ipython3",
   "version": "3.12.7"
  }
 },
 "nbformat": 4,
 "nbformat_minor": 5
}
