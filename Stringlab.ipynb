{
 "cells": [
  {
   "cell_type": "code",
   "execution_count": null,
   "metadata": {},
   "outputs": [],
   "source": [
    "#1\n",
    "def main():\n",
    "    str = input(\"Enter a string: \")\n",
    "    count=0\n",
    "    for i in range(len(str)):\n",
    "        if str[i] == \"a\" or str[i] == \"e\" or str[i] == \"i\" or str[i] == \"o\" or str[i] == \"u\":\n",
    "            count += 1\n",
    "            \n",
    "    print(count)\n",
    "\n",
    "\n",
    "if __name__ == \"__main__\":\n",
    "    main() "
   ]
  },
  {
   "cell_type": "code",
   "execution_count": null,
   "metadata": {},
   "outputs": [],
   "source": [
    "#2\n",
    "#Problem 2\n",
    "def uppercase(str):\n",
    "\n",
    "    upperstr=\"ABCDEFGHIJKLMNOPQRSTUVWXYZ\"\n",
    "    lowerstr=\"abcdefghijklmnopqrstuvwxyz\"\n",
    "    \n",
    "    for i in range(len(str)):\n",
    "        for a in range(len(lowerstr)):\n",
    "            if str[i]==lowerstr[a]:\n",
    "                str=str.replace(str[i],upperstr[a])\n",
    "    print(str)                  \n",
    "              \n",
    "def lowercase(str):\n",
    "\n",
    "    upperstr=\"ABCDEFGHIJKLMNOPQRSTUVWXYZ\"\n",
    "    lowerstr=\"abcdefghijklmnopqrstuvwxyz\"\n",
    "    \n",
    "    for i in range(len(str)):\n",
    "        for a in range(len(upperstr)):\n",
    "            if str[i]==upperstr[a]:\n",
    "                str=str.replace(str[i],lowerstr[a])\n",
    "    print(str)                  \n",
    "\n",
    "def togglecase(str):\n",
    "    upperstr=\"ABCDEFGHIJKLMNOPQRSTUVWXYZ\"\n",
    "    lowerstr=\"abcdefghijklmnopqrstuvwxyz\"\n",
    "    \n",
    "    for i in range(len(str)):\n",
    "        for a in range(len(upperstr)):\n",
    "            if str[i]==upperstr[a]:\n",
    "                str=str.replace(str[i],lowerstr[a])\n",
    "    for i in range(len(str)):\n",
    "        for a in range(len(lowerstr)):\n",
    "            if str[i]==lowerstr[a]:\n",
    "                str=str.replace(str[i],upperstr[a])\n",
    "    print(str)                \n",
    "    \n",
    "\n",
    "\n",
    "def main():\n",
    "    str1= input(\"Enter a string: \")\n",
    "\n",
    "    #uppercase(str1)\n",
    "    #lowercase(str1)\n",
    "    togglecase(str1)\n",
    "  \n",
    "    \n",
    "\n",
    "if __name__==\"__main__\":\n",
    "    main()\n"
   ]
  },
  {
   "cell_type": "code",
   "execution_count": null,
   "metadata": {},
   "outputs": [],
   "source": [
    "#3 \n",
    "def main():\n",
    "    str1= input(\"Enter a string: \")\n",
    "    str2= input(\"Enter a 2nd string: \")\n",
    "    if str1 in str2:\n",
    "        print(\"Str1 is in Str2\")\n",
    "\n",
    "if __name__ == \"__main__\":\n",
    "    main()\n"
   ]
  },
  {
   "cell_type": "code",
   "execution_count": null,
   "metadata": {},
   "outputs": [],
   "source": [
    "   \n",
    "def main():\n",
    "    str1= input(\"Enter a string: \")\n",
    "    str2= input(\"Enter str to be removed: \")\n",
    "    if str2 in str1:\n",
    "        c= str1.replace(str2,\"\")\n",
    "        print(c)\n",
    "       \n",
    "\n",
    "if __name__ == \"__main__\":\n",
    "    main()\n"
   ]
  }
 ],
 "metadata": {
  "kernelspec": {
   "display_name": "base",
   "language": "python",
   "name": "python3"
  },
  "language_info": {
   "name": "python",
   "version": "3.12.7"
  }
 },
 "nbformat": 4,
 "nbformat_minor": 2
}
