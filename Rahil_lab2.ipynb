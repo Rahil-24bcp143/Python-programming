{
 "cells": [
  {
   "cell_type": "code",
   "execution_count": null,
   "id": "d1529193",
   "metadata": {},
   "outputs": [],
   "source": [
    "\n",
    "# 1 \n",
    "a = int(input(\"First number: \"))\n",
    "b = int(input(\"Second number: \"))\n",
    "if a > b:\n",
    "    print(\"largest:\", a, \"smallest:\", b)\n",
    "else:\n",
    "    print(\"largest:\", b, \"smallest:\", a)\n"
   ]
  },
  {
   "cell_type": "code",
   "execution_count": null,
   "id": "08b9a88f",
   "metadata": {},
   "outputs": [],
   "source": [
    "\n",
    "# 2\n",
    "a = int(input(\"Enter first : \"))\n",
    "b = int(input(\"Enter second : \"))\n",
    "c = int(input(\"Enter third : \"))\n",
    "if a > b and a > c:\n",
    "    largest = a\n",
    "elif b > c:\n",
    "    largest = b\n",
    "else:\n",
    "    largest = c\n",
    "\n",
    "if a < b and a < c:\n",
    "    smallest = a\n",
    "elif b < c:\n",
    "    smallest = b\n",
    "else:\n",
    "    smallest = c\n",
    "\n",
    "print(\"largest:\", largest, \"smallest:\", smallest)\n"
   ]
  },
  {
   "cell_type": "code",
   "execution_count": null,
   "id": "0a857eb2",
   "metadata": {},
   "outputs": [],
   "source": [
    "\n",
    "# 3\n",
    "num = int(input(\"Enter a number: \"))\n",
    "if num % 2 == 0:\n",
    "    print(\"even\")\n",
    "else:\n",
    "    print(\"odd\")\n"
   ]
  },
  {
   "cell_type": "code",
   "execution_count": null,
   "id": "e3374aec",
   "metadata": {},
   "outputs": [],
   "source": [
    "\n",
    "# 4\n",
    "num = int(input(\"number: \"))\n",
    "if num % 10 == 0:\n",
    "    print(\"divisible by 10\")\n",
    "else:\n",
    "    print(\"not divisible by 10\")\n"
   ]
  },
  {
   "cell_type": "code",
   "execution_count": null,
   "id": "afdb51e8",
   "metadata": {},
   "outputs": [],
   "source": [
    "\n",
    "# 5\n",
    "age = int(input(\"age: \"))\n",
    "if age < 18:\n",
    "    print(\"Minor\")\n",
    "else:\n",
    "    print(\"Major\")\n"
   ]
  },
  {
   "cell_type": "code",
   "execution_count": null,
   "id": "b1cc2254",
   "metadata": {},
   "outputs": [],
   "source": [
    "\n",
    "# 6\n",
    "num = input(\"number: \")\n",
    "print(\"Number of digits:\", len(num))\n"
   ]
  },
  {
   "cell_type": "code",
   "execution_count": null,
   "id": "3bba340f",
   "metadata": {},
   "outputs": [],
   "source": [
    "\n",
    "# 7\n",
    "year = int(input(\"Enter year: \"))\n",
    "if (year % 4 == 0 and year % 100 != 0) or (year % 400 == 0):\n",
    "    print(\"Leap Year\")\n",
    "else:\n",
    "    print(\"Not a Leap Year\")\n"
   ]
  },
  {
   "cell_type": "code",
   "execution_count": null,
   "id": "c5257e88",
   "metadata": {},
   "outputs": [],
   "source": [
    "\n",
    "# 8\n",
    "a = int(input(\"Enter first angle: \"))\n",
    "b = int(input(\"Enter second angle: \"))\n",
    "c = int(input(\"Enter third angle: \"))\n",
    "if a + b + c == 180:\n",
    "    print(\"Valid Triangle\")\n",
    "else:\n",
    "    print(\"Invalid Triangle\")\n"
   ]
  },
  {
   "cell_type": "code",
   "execution_count": null,
   "id": "3d64715c",
   "metadata": {},
   "outputs": [],
   "source": [
    "\n",
    "# 9\n",
    "num = int(input(\"Number: \"))\n",
    "if num < 0:\n",
    "    num = -num\n",
    "print(\"Absolute val:\", num)\n"
   ]
  },
  {
   "cell_type": "code",
   "execution_count": null,
   "id": "6b70ac37",
   "metadata": {},
   "outputs": [],
   "source": [
    "\n",
    "# 10\n",
    "l = int(input(\"Enter length: \"))\n",
    "b = int(input(\"Enter breadth: \"))\n",
    "area = l * b\n",
    "perimeter = 2 * (l + b)\n",
    "if area > perimeter:\n",
    "    print(\"Area is greater\")\n",
    "else:\n",
    "    print(\"Perimeter is greater\")\n"
   ]
  },
  {
   "cell_type": "code",
   "execution_count": null,
   "id": "f1a5f1d1",
   "metadata": {},
   "outputs": [],
   "source": [
    "\n",
    "# 11\n",
    "x1, y1 = map(int, input(\"Enter first point (x1 y1): \").split())\n",
    "x2, y2 = map(int, input(\"Enter second point (x2 y2): \").split())\n",
    "x3, y3 = map(int, input(\"Enter third point (x3 y3): \").split())\n",
    "if (y2 - y1) * (x3 - x1) == (y3 - y1) * (x2 - x1):\n",
    "    print(\"points are collinear\")\n",
    "else:\n",
    "    print(\"points are not collinear\")\n"
   ]
  },
  {
   "cell_type": "code",
   "execution_count": null,
   "id": "ade96b0a",
   "metadata": {},
   "outputs": [],
   "source": [
    "\n",
    "# 12\n",
    "import math\n",
    "cx, cy = map(int, input(\"Enter circle center (x y): \").split())\n",
    "r = int(input(\"Enter radius: \"))\n",
    "px, py = map(int, input(\"Enter point (x y): \").split())\n",
    "dist = math.sqrt((px - cx) ** 2 + (py - cy) ** 2)\n",
    "if dist < r:\n",
    "    print(\"point is inside the circle\")\n",
    "elif dist == r:\n",
    "    print(\"point is on the circle\")\n",
    "else:\n",
    "    print(\"point is outside the circle\")\n"
   ]
  },
  {
   "cell_type": "code",
   "execution_count": null,
   "id": "3713825e",
   "metadata": {},
   "outputs": [],
   "source": [
    "\n",
    "# 13\n",
    "num = int(input(\"Enter a number (0-19): \"))\n",
    "words = [\"zero\", \"one\", \"two\", \"three\", \"four\", \"five\", \"six\", \"seven\", \"eight\", \"nine\",\n",
    "         \"ten\", \"eleven\", \"twelve\", \"thirteen\", \"fourteen\", \"fifteen\", \"sixten\", \"seventen\", \"eighteen\", \"nineteen\"]\n",
    "if 0 <= num < 20:\n",
    "    print(words[num])\n",
    "else:\n",
    "    print(\"Out of range\")\n"
   ]
  },
  {
   "cell_type": "code",
   "execution_count": null,
   "id": "f6d3a478",
   "metadata": {},
   "outputs": [],
   "source": [
    "\n",
    "# 14\n",
    "s1 = int(input(\"Enter marks of subject 1: \"))\n",
    "s2 = int(input(\"Enter marks of subject 2: \"))\n",
    "s3 = int(input(\"Enter marks of subject 3: \"))\n",
    "\n",
    "total = s1 + s2 + s3\n",
    "avg = total / 3\n",
    "\n",
    "if s1 <= 39 or s2 <= 39 or s3 <= 39:\n",
    "    print(\"Fail\")\n",
    "else:\n",
    "    print(\"Pass\")\n",
    "\n",
    "def grade(m):\n",
    "    if m == -1:\n",
    "        return \"NA\"\n",
    "    elif m <= 39:\n",
    "        return \"F\"\n",
    "    elif m <= 44:\n",
    "        return \"P\"\n",
    "    elif m <= 49:\n",
    "        return \"C\"\n",
    "    elif m <= 54:\n",
    "        return \"B\"\n",
    "    elif m <= 59:\n",
    "        return \"B+\"\n",
    "    elif m <= 69:\n",
    "        return \"A\"\n",
    "    elif m <= 79:\n",
    "        return \"A+\"\n",
    "    else:\n",
    "        return \"O\"\n",
    "\n",
    "print(\"Total:\", total, \"Average:\", avg)\n",
    "print(\"Grades:\", grade(s1), grade(s2), grade(s3))\n"
   ]
  }
 ],
 "metadata": {
  "language_info": {
   "name": "python"
  }
 },
 "nbformat": 4,
 "nbformat_minor": 5
}
